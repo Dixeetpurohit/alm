{
 "cells": [
  {
   "cell_type": "code",
   "execution_count": 37,
   "metadata": {},
   "outputs": [
    {
     "name": "stdout",
     "output_type": "stream",
     "text": [
      "   Transaction ID      Salesperson           Region  Account #  Sales Amount  \\\n",
      "0            1189  Abilene, Lufkin   West TX Region      83356           259   \n",
      "1            1191  Abilene, Lufkin   West TX Region      26781          1422   \n",
      "2            1210  Abilene, Lufkin   West TX Region      55708           802   \n",
      "3            1174  Angelo, Antonio  South TX Region      36569          1595   \n",
      "4            1179  Angelo, Antonio  South TX Region      19036           628   \n",
      "\n",
      "      Month  \n",
      "0   October  \n",
      "1   October  \n",
      "2  November  \n",
      "3   October  \n",
      "4   October  \n"
     ]
    }
   ],
   "source": [
    "from pandas import DataFrame, Series\n",
    "import pandas as pd\n",
    "\n",
    "data = pd.read_excel (r'D:\\PHD Tamu\\TA\\Data Science\\Assignments\\Python Assignment 1.xlsx')\n",
    "salespeople = pd.DataFrame(data.head(5))\n",
    "print (salespeople)"
   ]
  },
  {
   "cell_type": "code",
   "execution_count": 76,
   "metadata": {},
   "outputs": [
    {
     "name": "stdout",
     "output_type": "stream",
     "text": [
      "                    Salesperson           Region  Account #  Sales Amount  \\\n",
      "Transaction ID                                                              \n",
      "1189            Abilene, Lufkin   West TX Region      83356           259   \n",
      "1191            Abilene, Lufkin   West TX Region      26781          1422   \n",
      "1210            Abilene, Lufkin   West TX Region      55708           802   \n",
      "1174            Angelo, Antonio  South TX Region      36569          1595   \n",
      "1179            Angelo, Antonio  South TX Region      19036           628   \n",
      "1182            Angelo, Antonio  South TX Region      24050           880   \n",
      "1193            Angelo, Antonio  South TX Region      24050           502   \n",
      "1195            Angelo, Antonio  South TX Region      26781           659   \n",
      "1196            Angelo, Antonio  South TX Region      31220           336   \n",
      "1200            Angelo, Antonio  South TX Region      31220          1008   \n",
      "\n",
      "                   Month  \n",
      "Transaction ID            \n",
      "1189             October  \n",
      "1191             October  \n",
      "1210            November  \n",
      "1174             October  \n",
      "1179             October  \n",
      "1182             October  \n",
      "1193             October  \n",
      "1195            November  \n",
      "1196            November  \n",
      "1200            November  \n"
     ]
    }
   ],
   "source": [
    "empty = pd.DataFrame(data, columns= ['Transaction ID', 'Salesperson', 'Region', 'Account #', 'Sales Amount', 'Month'])\n",
    "Empty1 = pd.DataFrame(empty.head(10))\n",
    "Empty2=Empty1.set_index('Transaction ID')\n",
    "print (Empty2)"
   ]
  },
  {
   "cell_type": "code",
   "execution_count": null,
   "metadata": {},
   "outputs": [],
   "source": []
  },
  {
   "cell_type": "code",
   "execution_count": null,
   "metadata": {},
   "outputs": [],
   "source": []
  },
  {
   "cell_type": "code",
   "execution_count": null,
   "metadata": {},
   "outputs": [],
   "source": []
  }
 ],
 "metadata": {
  "kernelspec": {
   "display_name": "Python 3",
   "language": "python",
   "name": "python3"
  },
  "language_info": {
   "codemirror_mode": {
    "name": "ipython",
    "version": 3
   },
   "file_extension": ".py",
   "mimetype": "text/x-python",
   "name": "python",
   "nbconvert_exporter": "python",
   "pygments_lexer": "ipython3",
   "version": "3.7.4"
  }
 },
 "nbformat": 4,
 "nbformat_minor": 2
}
